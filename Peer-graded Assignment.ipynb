{
 "cells": [
  {
   "cell_type": "markdown",
   "metadata": {},
   "source": [
    "### \n",
    "# Peer-Graded Assignment"
   ]
  },
  {
   "cell_type": "markdown",
   "metadata": {},
   "source": [
    "### \n",
    "\n",
    "## Introduction "
   ]
  },
  {
   "cell_type": "markdown",
   "metadata": {
    "jp-MarkdownHeadingCollapsed": true,
    "tags": []
   },
   "source": [
    "### \n",
    "### List of Data Science Language \n",
    "1. Python\n",
    "2. R\n",
    "3. SQL\n",
    "4. Java\n",
    "5. Julia\n",
    "6. Scala\n",
    "7. C/C++\n",
    "8. JavaScript\n",
    "9. Swift"
   ]
  },
  {
   "cell_type": "markdown",
   "metadata": {
    "jp-MarkdownHeadingCollapsed": true,
    "tags": []
   },
   "source": [
    "### \n",
    "### List Data Science Libraries\n",
    "1. TensorFlow\n",
    "2. NumPy\n",
    "3. SciPy\n",
    "4. Pandas\n",
    "5. Matplotlib\n",
    "6. Keras\n"
   ]
  },
  {
   "cell_type": "markdown",
   "metadata": {
    "tags": []
   },
   "source": [
    "### \n",
    "|   |   |   |   |   |   |\n",
    "|---|---|---|---|---|---|\n",
    "|Python |R   |Jupyter   |D3|Julia|  MongoDB |\n",
    "| Tableau  |Matplotlib   |Minitab   | Scikit Learn  | TensorFlow  |Rapidminer   |\n",
    "|  DataRobot |NLTK   |Apache Hadoop   |QlikView   |KNIME   |  SAS |"
   ]
  },
  {
   "cell_type": "markdown",
   "metadata": {
    "tags": []
   },
   "source": [
    "### \n",
    "\n",
    "\\begin{gather*}\n",
    "a=b+c\\\\\n",
    "12=8+4\\\\\n",
    "a_1=b_2+c_2-d_1+e_1\n",
    "\\end{gather*}"
   ]
  },
  {
   "cell_type": "code",
   "execution_count": 1,
   "metadata": {
    "tags": []
   },
   "outputs": [
    {
     "name": "stdout",
     "output_type": "stream",
     "text": [
      " Multiplication of  10  and  20 is equal to 200\n",
      "\n",
      " Addition of  10  and  20 is equal to 30\n"
     ]
    }
   ],
   "source": [
    "A = 10\n",
    "B = 20\n",
    "\n",
    "C= A * B\n",
    "D= A + B\n",
    "\n",
    "print(\" Multiplication of \", A, \" and \", B, \"is equal to\", C)\n",
    "print()\n",
    "print(\" Addition of \", A, \" and \", B, \"is equal to\", D)"
   ]
  },
  {
   "cell_type": "code",
   "execution_count": 2,
   "metadata": {
    "tags": []
   },
   "outputs": [
    {
     "name": "stdout",
     "output_type": "stream",
     "text": [
      "120 Minuts =  2.0  Hours\n"
     ]
    }
   ],
   "source": [
    "M = 120\n",
    "H = M /60\n",
    "\n",
    "\n",
    "print(M, \"Minuts = \", H, \" Hours\")"
   ]
  },
  {
   "cell_type": "markdown",
   "metadata": {},
   "source": [
    "## Objectives OF Data Science\n",
    "1. Collecting data \n",
    "2. Processing data \n",
    "3. Exploring and visualizing data \n",
    "4. Analyzing (data) and/or applying machine learning (to data) \n",
    "5. Deciding (or planning) based on acquired insight"
   ]
  },
  {
   "cell_type": "markdown",
   "metadata": {},
   "source": [
    "#### This document created by Imtiaz Khan"
   ]
  }
 ],
 "metadata": {
  "kernelspec": {
   "display_name": "Python",
   "language": "python",
   "name": "conda-env-python-py"
  },
  "language_info": {
   "codemirror_mode": {
    "name": "ipython",
    "version": 3
   },
   "file_extension": ".py",
   "mimetype": "text/x-python",
   "name": "python",
   "nbconvert_exporter": "python",
   "pygments_lexer": "ipython3",
   "version": "3.7.12"
  }
 },
 "nbformat": 4,
 "nbformat_minor": 4
}
